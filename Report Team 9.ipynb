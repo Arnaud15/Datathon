{
 "cells": [
  {
   "cell_type": "markdown",
   "metadata": {},
   "source": [
    "# Report Team 9: Sustainable water resources in the United States"
   ]
  },
  {
   "cell_type": "markdown",
   "metadata": {},
   "source": [
    "## 1. Executive Summary"
   ]
  },
  {
   "cell_type": "markdown",
   "metadata": {},
   "source": [
    "Today, the sustainable management of water resources is a key objective our team decided to tackle. In the meantime, water pollution and water consumption are two significant threats to this endeavor that we thought could be analyzed using the datasets available. Therefore, the issue around which our report is organized is the following:"
   ]
  },
  {
   "cell_type": "markdown",
   "metadata": {},
   "source": [
    "#### Which economic factors are most predictive of high water pollution and water consumption levels?"
   ]
  },
  {
   "cell_type": "markdown",
   "metadata": {},
   "source": [
    "We followed similar steps to identify predictive factors to the two variables of water consumption and water pollution and proceeded as follows:"
   ]
  },
  {
   "cell_type": "markdown",
   "metadata": {},
   "source": [
    "#### I. Definition of the variables to predict: water pollution and water consumption levels\n",
    "#### II. Visualizations on a map of the US territory\n",
    "#### III. Core work on features engineering and regression\n",
    "#### IV. Conclusion"
   ]
  },
  {
   "cell_type": "markdown",
   "metadata": {},
   "source": [
    "### Insights obtained"
   ]
  },
  {
   "cell_type": "markdown",
   "metadata": {},
   "source": [
    "Blabla final"
   ]
  },
  {
   "cell_type": "markdown",
   "metadata": {},
   "source": [
    "## 2. Technical exposition"
   ]
  },
  {
   "cell_type": "markdown",
   "metadata": {},
   "source": [
    "#### Modules Import"
   ]
  },
  {
   "cell_type": "code",
   "execution_count": 9,
   "metadata": {},
   "outputs": [],
   "source": [
    "import pandas as pd\n",
    "import matplotlib.pyplot as plt\n",
    "import numpy as np\n",
    "import seaborn as sns\n",
    "from sklearn.cluster import KMeans\n",
    "from sklearn.linear_model import LinearRegression, Lasso, Ridge\n",
    "from sklearn.preprocessing import StandardScaler\n",
    "import lightgbm as lgb\n",
    "import plotly.plotly as py\n",
    "import plotly.figure_factory as ff\n",
    "import plotly.tools as tls\n",
    "tls.set_credentials_file(username='asabran', api_key='70kL1XZ3YJICFB3M66O5')\n",
    "\n",
    "plt.rcParams['figure.figsize'] = (15.0, 10.0)"
   ]
  },
  {
   "cell_type": "markdown",
   "metadata": {},
   "source": [
    "#### Datasets import"
   ]
  },
  {
   "cell_type": "code",
   "execution_count": 10,
   "metadata": {},
   "outputs": [],
   "source": [
    "data_chemicals = pd.read_csv(\"chemicals.csv\", encoding = \"utf-8\")\n",
    "data_drought = pd.read_csv(\"droughts.csv\", encoding = \"utf-8\")\n",
    "data_education = pd.read_csv(\"education_attainment.csv\", encoding = \"latin1\")\n",
    "data_industry_occupation = pd.read_csv(\"industry_occupation.csv\", encoding=\"latin1\")\n",
    "data_industry_earnings = pd.read_csv(\"earnings.csv\", encoding=\"latin1\")"
   ]
  },
  {
   "cell_type": "markdown",
   "metadata": {},
   "source": [
    "### 2.1 Analysis of water pollution"
   ]
  },
  {
   "cell_type": "markdown",
   "metadata": {},
   "source": [
    "#### I. Water pollution definition"
   ]
  },
  {
   "cell_type": "markdown",
   "metadata": {},
   "source": [
    "The definition of a proper water pollution metric proved challenging. First, we decided to focus on water pollution by chemicals: the only direct pollution measure available in the dataset, in the table **chemicals**:"
   ]
  },
  {
   "cell_type": "code",
   "execution_count": 11,
   "metadata": {},
   "outputs": [
    {
     "data": {
      "text/html": [
       "<div>\n",
       "<style scoped>\n",
       "    .dataframe tbody tr th:only-of-type {\n",
       "        vertical-align: middle;\n",
       "    }\n",
       "\n",
       "    .dataframe tbody tr th {\n",
       "        vertical-align: top;\n",
       "    }\n",
       "\n",
       "    .dataframe thead th {\n",
       "        text-align: right;\n",
       "    }\n",
       "</style>\n",
       "<table border=\"1\" class=\"dataframe\">\n",
       "  <thead>\n",
       "    <tr style=\"text-align: right;\">\n",
       "      <th></th>\n",
       "      <th>cws_name</th>\n",
       "      <th>chemical_species</th>\n",
       "      <th>contaminant_level</th>\n",
       "      <th>county</th>\n",
       "      <th>pws_id</th>\n",
       "      <th>pop_served</th>\n",
       "      <th>state</th>\n",
       "      <th>unit_measurement</th>\n",
       "      <th>value</th>\n",
       "      <th>year</th>\n",
       "      <th>fips</th>\n",
       "      <th>state_fips</th>\n",
       "    </tr>\n",
       "  </thead>\n",
       "  <tbody>\n",
       "    <tr>\n",
       "      <th>0</th>\n",
       "      <td>CALIFORNIA WATER SERVICE - LIVERMORE</td>\n",
       "      <td>Uranium</td>\n",
       "      <td>Less than or equal MCL</td>\n",
       "      <td>Alameda</td>\n",
       "      <td>CA0110003</td>\n",
       "      <td>57200</td>\n",
       "      <td>California</td>\n",
       "      <td>micrograms/L</td>\n",
       "      <td>1.54</td>\n",
       "      <td>2000</td>\n",
       "      <td>6001</td>\n",
       "      <td>6</td>\n",
       "    </tr>\n",
       "    <tr>\n",
       "      <th>1</th>\n",
       "      <td>CITY OF LIVERMORE</td>\n",
       "      <td>Uranium</td>\n",
       "      <td>Less than or equal MCL</td>\n",
       "      <td>Alameda</td>\n",
       "      <td>CA0110011</td>\n",
       "      <td>26400</td>\n",
       "      <td>California</td>\n",
       "      <td>micrograms/L</td>\n",
       "      <td>1.64</td>\n",
       "      <td>2000</td>\n",
       "      <td>6001</td>\n",
       "      <td>6</td>\n",
       "    </tr>\n",
       "    <tr>\n",
       "      <th>2</th>\n",
       "      <td>CITY OF PLEASANTON</td>\n",
       "      <td>Uranium</td>\n",
       "      <td>Less than or equal MCL</td>\n",
       "      <td>Alameda</td>\n",
       "      <td>CA0110008</td>\n",
       "      <td>70600</td>\n",
       "      <td>California</td>\n",
       "      <td>micrograms/L</td>\n",
       "      <td>1.64</td>\n",
       "      <td>2000</td>\n",
       "      <td>6001</td>\n",
       "      <td>6</td>\n",
       "    </tr>\n",
       "    <tr>\n",
       "      <th>3</th>\n",
       "      <td>DUBLIN SAN RAMON SERVICES DISTRICT</td>\n",
       "      <td>Uranium</td>\n",
       "      <td>Less than or equal MCL</td>\n",
       "      <td>Alameda</td>\n",
       "      <td>CA0110009</td>\n",
       "      <td>72500</td>\n",
       "      <td>California</td>\n",
       "      <td>micrograms/L</td>\n",
       "      <td>1.64</td>\n",
       "      <td>2000</td>\n",
       "      <td>6001</td>\n",
       "      <td>6</td>\n",
       "    </tr>\n",
       "    <tr>\n",
       "      <th>4</th>\n",
       "      <td>NORRIS CANYON PROPERTY OWNERS ASSN</td>\n",
       "      <td>Uranium</td>\n",
       "      <td>Less than or equal MCL</td>\n",
       "      <td>Alameda</td>\n",
       "      <td>CA0103040</td>\n",
       "      <td>100</td>\n",
       "      <td>California</td>\n",
       "      <td>micrograms/L</td>\n",
       "      <td>4.51</td>\n",
       "      <td>2000</td>\n",
       "      <td>6001</td>\n",
       "      <td>6</td>\n",
       "    </tr>\n",
       "  </tbody>\n",
       "</table>\n",
       "</div>"
      ],
      "text/plain": [
       "                               cws_name chemical_species  \\\n",
       "0  CALIFORNIA WATER SERVICE - LIVERMORE          Uranium   \n",
       "1                     CITY OF LIVERMORE          Uranium   \n",
       "2                    CITY OF PLEASANTON          Uranium   \n",
       "3    DUBLIN SAN RAMON SERVICES DISTRICT          Uranium   \n",
       "4    NORRIS CANYON PROPERTY OWNERS ASSN          Uranium   \n",
       "\n",
       "        contaminant_level   county     pws_id  pop_served       state  \\\n",
       "0  Less than or equal MCL  Alameda  CA0110003       57200  California   \n",
       "1  Less than or equal MCL  Alameda  CA0110011       26400  California   \n",
       "2  Less than or equal MCL  Alameda  CA0110008       70600  California   \n",
       "3  Less than or equal MCL  Alameda  CA0110009       72500  California   \n",
       "4  Less than or equal MCL  Alameda  CA0103040         100  California   \n",
       "\n",
       "  unit_measurement  value  year  fips  state_fips  \n",
       "0     micrograms/L   1.54  2000  6001           6  \n",
       "1     micrograms/L   1.64  2000  6001           6  \n",
       "2     micrograms/L   1.64  2000  6001           6  \n",
       "3     micrograms/L   1.64  2000  6001           6  \n",
       "4     micrograms/L   4.51  2000  6001           6  "
      ]
     },
     "execution_count": 11,
     "metadata": {},
     "output_type": "execute_result"
    }
   ],
   "source": [
    "data_chemicals.head()"
   ]
  },
  {
   "cell_type": "markdown",
   "metadata": {},
   "source": [
    "- The geographical scale we retained is the **county**\n",
    "\n",
    "The challenge is then to aggregate chemicals data in a sensible way at the county level. To do so, we chose the following **assumption and definition**:"
   ]
  },
  {
   "cell_type": "markdown",
   "metadata": {},
   "source": [
    "- The **volume of water** consumed by human activities on a county's territory is assumed to be proportional to the total population of the county\n",
    "- The **level of chemicals** spread in the volume of water distributed by a given water system **cws**, in a given county, is defined as the number $N$ of contaminants whose level in this water system is classified to 'greater_than_MCL'. This $N$ is then averaged on all the water systems in the county, with *weights* equal to the population supplied by each water system.\n",
    "\n",
    "Given the above assumption on any county's water volume, the definition of a county's chemical level as a weighted averaged of contaminants in high concentrations is consistent, because the weights correspond to populations supplied by water systems and sum to the county's total population."
   ]
  },
  {
   "cell_type": "markdown",
   "metadata": {},
   "source": [
    "#### Data wrangling to obtain the chemicals_index:"
   ]
  },
  {
   "cell_type": "code",
   "execution_count": 12,
   "metadata": {},
   "outputs": [],
   "source": [
    "data_chemicals['greater_than_MCL'] = (data_chemicals['contaminant_level'] == \"Greater than MCL\") * 1.\n",
    "groups = data_chemicals.groupby([\"year\", \"pws_id\"])['pop_served', 'greater_than_MCL'].mean()\n",
    "groups['greater_than_MCL'] *= data_chemicals.groupby([\"year\", \"pws_id\"])['greater_than_MCL'].count()\n",
    "groups['index_weight'] = groups['pop_served'] * groups['greater_than_MCL']\n",
    "final_groups = groups.groupby(\"year\")['index_weight'].sum() / groups.groupby(\"year\")['pop_served'].sum()"
   ]
  },
  {
   "cell_type": "code",
   "execution_count": 13,
   "metadata": {},
   "outputs": [],
   "source": [
    "data_chemicals = data_chemicals[data_chemicals['year']==2010]\n",
    "data_chemicals = data_chemicals.set_index(data_chemicals['fips'])\n",
    "groups = data_chemicals.groupby(\"cws_name\")[['greater_than_MCL', 'fips', \"pop_served\"]].mean()\n",
    "groups['greater_than_MCL'] *= data_chemicals.groupby(\"cws_name\")['greater_than_MCL'].count()\n",
    "groups['index_with_weights'] = groups['greater_than_MCL']*groups['pop_served']\n",
    "groups['fips'] = groups['fips'].astype(int)\n",
    "chemicals_index = groups.groupby(\"fips\")['index_with_weights'].sum() / groups.groupby(\"fips\")['pop_served'].sum()"
   ]
  },
  {
   "cell_type": "markdown",
   "metadata": {},
   "source": [
    "#### II. Visualization: countys with highest water pollution levels"
   ]
  },
  {
   "cell_type": "code",
   "execution_count": 16,
   "metadata": {},
   "outputs": [
    {
     "name": "stderr",
     "output_type": "stream",
     "text": [
      "C:\\Users\\User\\AppData\\Local\\conda\\conda\\envs\\tf-gpu\\lib\\site-packages\\plotly\\figure_factory\\_county_choropleth.py:771: UserWarning:\n",
      "\n",
      "Unrecognized FIPS Values\n",
      "\n",
      "Whoops! It looks like you are trying to pass at least one FIPS value that is not in our shapefile of FIPS and data for the counties. Your choropleth will still show up but these counties cannot be shown.\n",
      "Unrecognized FIPS are: [19633, 28473, 31868, 32261, 37520, 37606, 37608, 40423, 42012]\n",
      "\n"
     ]
    },
    {
     "data": {
      "text/html": [
       "<iframe id=\"igraph\" scrolling=\"no\" style=\"border:none;\" seamless=\"seamless\" src=\"https://plot.ly/~asabran/26.embed\" height=\"450px\" width=\"900px\"></iframe>"
      ],
      "text/plain": [
       "<plotly.tools.PlotlyDisplay object>"
      ]
     },
     "execution_count": 16,
     "metadata": {},
     "output_type": "execute_result"
    }
   ],
   "source": [
    "eighty_quantile=chemicals_index.quantile(.75)\n",
    "chemicals_index_eighty=chemicals_index[chemicals_index>eighty_quantile]\n",
    "\n",
    "bins=[]\n",
    "\n",
    "for q in np.linspace(0,1,5):\n",
    "    bins.append(chemicals_index_eighty.quantile(q))\n",
    "\n",
    "fig = ff.create_choropleth(fips=chemicals_index_eighty.index.values, values=chemicals_index_eighty,binning_endpoints=bins)\n",
    "py.iplot(fig, filename=\"Top 75% polluted counties \")"
   ]
  },
  {
   "cell_type": "markdown",
   "metadata": {},
   "source": [
    "This map shows the top 25% of counties with the highest water pollution levels. It seems that industrial states in the North-East and agricultural states in the center are most associated with high water pollution levels. Following this intuition, we tried to explain water pollution levels in any county by the relative share of each industry in those counties."
   ]
  },
  {
   "cell_type": "markdown",
   "metadata": {},
   "source": [
    "#### III. Features set 1: Industry shares in each county"
   ]
  },
  {
   "cell_type": "markdown",
   "metadata": {},
   "source": [
    "#### III. Features set 2: Industry profitability"
   ]
  },
  {
   "cell_type": "markdown",
   "metadata": {},
   "source": [
    "#### IV. Conclusion"
   ]
  },
  {
   "cell_type": "code",
   "execution_count": 6,
   "metadata": {},
   "outputs": [
    {
     "data": {
      "image/png": "[encoded data removed]",
      "text/plain": [
       "<Figure size 432x288 with 1 Axes>"
      ]
     },
     "metadata": {
      "needs_background": "light"
     },
     "output_type": "display_data"
    }
   ],
   "source": [
    "final_groups.plot()\n",
    "plt.grid()"
   ]
  },
  {
   "cell_type": "markdown",
   "metadata": {},
   "source": [
    "### 2.2 Analysis of water consumption"
   ]
  },
  {
   "cell_type": "code",
   "execution_count": null,
   "metadata": {},
   "outputs": [],
   "source": []
  },
  {
   "cell_type": "markdown",
   "metadata": {},
   "source": [
    "### 2.1 Analysis of water pollution"
   ]
  },
  {
   "cell_type": "markdown",
   "metadata": {},
   "source": [
    "#### I. Water pollution definition"
   ]
  },
  {
   "cell_type": "markdown",
   "metadata": {},
   "source": [
    "The definition of a proper water pollution metric proved challenging. First, we decided to focus on water pollution by chemicals: the only direct pollution measure available in the dataset, in the table **chemicals**:"
   ]
  },
  {
   "cell_type": "code",
   "execution_count": 11,
   "metadata": {},
   "outputs": [
    {
     "data": {
      "text/html": [
       "<div>\n",
       "<style scoped>\n",
       "    .dataframe tbody tr th:only-of-type {\n",
       "        vertical-align: middle;\n",
       "    }\n",
       "\n",
       "    .dataframe tbody tr th {\n",
       "        vertical-align: top;\n",
       "    }\n",
       "\n",
       "    .dataframe thead th {\n",
       "        text-align: right;\n",
       "    }\n",
       "</style>\n",
       "<table border=\"1\" class=\"dataframe\">\n",
       "  <thead>\n",
       "    <tr style=\"text-align: right;\">\n",
       "      <th></th>\n",
       "      <th>cws_name</th>\n",
       "      <th>chemical_species</th>\n",
       "      <th>contaminant_level</th>\n",
       "      <th>county</th>\n",
       "      <th>pws_id</th>\n",
       "      <th>pop_served</th>\n",
       "      <th>state</th>\n",
       "      <th>unit_measurement</th>\n",
       "      <th>value</th>\n",
       "      <th>year</th>\n",
       "      <th>fips</th>\n",
       "      <th>state_fips</th>\n",
       "    </tr>\n",
       "  </thead>\n",
       "  <tbody>\n",
       "    <tr>\n",
       "      <th>0</th>\n",
       "      <td>CALIFORNIA WATER SERVICE - LIVERMORE</td>\n",
       "      <td>Uranium</td>\n",
       "      <td>Less than or equal MCL</td>\n",
       "      <td>Alameda</td>\n",
       "      <td>CA0110003</td>\n",
       "      <td>57200</td>\n",
       "      <td>California</td>\n",
       "      <td>micrograms/L</td>\n",
       "      <td>1.54</td>\n",
       "      <td>2000</td>\n",
       "      <td>6001</td>\n",
       "      <td>6</td>\n",
       "    </tr>\n",
       "    <tr>\n",
       "      <th>1</th>\n",
       "      <td>CITY OF LIVERMORE</td>\n",
       "      <td>Uranium</td>\n",
       "      <td>Less than or equal MCL</td>\n",
       "      <td>Alameda</td>\n",
       "      <td>CA0110011</td>\n",
       "      <td>26400</td>\n",
       "      <td>California</td>\n",
       "      <td>micrograms/L</td>\n",
       "      <td>1.64</td>\n",
       "      <td>2000</td>\n",
       "      <td>6001</td>\n",
       "      <td>6</td>\n",
       "    </tr>\n",
       "    <tr>\n",
       "      <th>2</th>\n",
       "      <td>CITY OF PLEASANTON</td>\n",
       "      <td>Uranium</td>\n",
       "      <td>Less than or equal MCL</td>\n",
       "      <td>Alameda</td>\n",
       "      <td>CA0110008</td>\n",
       "      <td>70600</td>\n",
       "      <td>California</td>\n",
       "      <td>micrograms/L</td>\n",
       "      <td>1.64</td>\n",
       "      <td>2000</td>\n",
       "      <td>6001</td>\n",
       "      <td>6</td>\n",
       "    </tr>\n",
       "    <tr>\n",
       "      <th>3</th>\n",
       "      <td>DUBLIN SAN RAMON SERVICES DISTRICT</td>\n",
       "      <td>Uranium</td>\n",
       "      <td>Less than or equal MCL</td>\n",
       "      <td>Alameda</td>\n",
       "      <td>CA0110009</td>\n",
       "      <td>72500</td>\n",
       "      <td>California</td>\n",
       "      <td>micrograms/L</td>\n",
       "      <td>1.64</td>\n",
       "      <td>2000</td>\n",
       "      <td>6001</td>\n",
       "      <td>6</td>\n",
       "    </tr>\n",
       "    <tr>\n",
       "      <th>4</th>\n",
       "      <td>NORRIS CANYON PROPERTY OWNERS ASSN</td>\n",
       "      <td>Uranium</td>\n",
       "      <td>Less than or equal MCL</td>\n",
       "      <td>Alameda</td>\n",
       "      <td>CA0103040</td>\n",
       "      <td>100</td>\n",
       "      <td>California</td>\n",
       "      <td>micrograms/L</td>\n",
       "      <td>4.51</td>\n",
       "      <td>2000</td>\n",
       "      <td>6001</td>\n",
       "      <td>6</td>\n",
       "    </tr>\n",
       "  </tbody>\n",
       "</table>\n",
       "</div>"
      ],
      "text/plain": [
       "                               cws_name chemical_species  \\\n",
       "0  CALIFORNIA WATER SERVICE - LIVERMORE          Uranium   \n",
       "1                     CITY OF LIVERMORE          Uranium   \n",
       "2                    CITY OF PLEASANTON          Uranium   \n",
       "3    DUBLIN SAN RAMON SERVICES DISTRICT          Uranium   \n",
       "4    NORRIS CANYON PROPERTY OWNERS ASSN          Uranium   \n",
       "\n",
       "        contaminant_level   county     pws_id  pop_served       state  \\\n",
       "0  Less than or equal MCL  Alameda  CA0110003       57200  California   \n",
       "1  Less than or equal MCL  Alameda  CA0110011       26400  California   \n",
       "2  Less than or equal MCL  Alameda  CA0110008       70600  California   \n",
       "3  Less than or equal MCL  Alameda  CA0110009       72500  California   \n",
       "4  Less than or equal MCL  Alameda  CA0103040         100  California   \n",
       "\n",
       "  unit_measurement  value  year  fips  state_fips  \n",
       "0     micrograms/L   1.54  2000  6001           6  \n",
       "1     micrograms/L   1.64  2000  6001           6  \n",
       "2     micrograms/L   1.64  2000  6001           6  \n",
       "3     micrograms/L   1.64  2000  6001           6  \n",
       "4     micrograms/L   4.51  2000  6001           6  "
      ]
     },
     "execution_count": 11,
     "metadata": {},
     "output_type": "execute_result"
    }
   ],
   "source": [
    "data_chemicals.head()"
   ]
  },
  {
   "cell_type": "markdown",
   "metadata": {},
   "source": [
    "- The geographical scale we retained is the **county**\n",
    "\n",
    "The challenge is then to aggregate chemicals data in a sensible way at the county level. To do so, we chose the following **assumption and definition**:"
   ]
  },
  {
   "cell_type": "markdown",
   "metadata": {},
   "source": [
    "- The **volume of water** consumed by human activities on a county's territory is assumed to be proportional to the total population of the county\n",
    "- The **level of chemicals** spread in the volume of water distributed by a given water system **cws**, in a given county, is defined as the number $N$ of contaminants whose level in this water system is classified to 'greater_than_MCL'. This $N$ is then averaged on all the water systems in the county, with *weights* equal to the population supplied by each water system.\n",
    "\n",
    "Given the above assumption on any county's water volume, the definition of a county's chemical level as a weighted averaged of contaminants in high concentrations is consistent, because the weights correspond to populations supplied by water systems and sum to the county's total population."
   ]
  },
  {
   "cell_type": "markdown",
   "metadata": {},
   "source": [
    "#### Data wrangling to obtain the chemicals_index:"
   ]
  },
  {
   "cell_type": "code",
   "execution_count": 12,
   "metadata": {},
   "outputs": [],
   "source": [
    "data_chemicals['greater_than_MCL'] = (data_chemicals['contaminant_level'] == \"Greater than MCL\") * 1.\n",
    "groups = data_chemicals.groupby([\"year\", \"pws_id\"])['pop_served', 'greater_than_MCL'].mean()\n",
    "groups['greater_than_MCL'] *= data_chemicals.groupby([\"year\", \"pws_id\"])['greater_than_MCL'].count()\n",
    "groups['index_weight'] = groups['pop_served'] * groups['greater_than_MCL']\n",
    "final_groups = groups.groupby(\"year\")['index_weight'].sum() / groups.groupby(\"year\")['pop_served'].sum()"
   ]
  },
  {
   "cell_type": "code",
   "execution_count": 13,
   "metadata": {},
   "outputs": [],
   "source": [
    "data_chemicals = data_chemicals[data_chemicals['year']==2010]\n",
    "data_chemicals = data_chemicals.set_index(data_chemicals['fips'])\n",
    "groups = data_chemicals.groupby(\"cws_name\")[['greater_than_MCL', 'fips', \"pop_served\"]].mean()\n",
    "groups['greater_than_MCL'] *= data_chemicals.groupby(\"cws_name\")['greater_than_MCL'].count()\n",
    "groups['index_with_weights'] = groups['greater_than_MCL']*groups['pop_served']\n",
    "groups['fips'] = groups['fips'].astype(int)\n",
    "chemicals_index = groups.groupby(\"fips\")['index_with_weights'].sum() / groups.groupby(\"fips\")['pop_served'].sum()"
   ]
  },
  {
   "cell_type": "markdown",
   "metadata": {},
   "source": [
    "#### II. Visualization: countys with highest water pollution levels"
   ]
  },
  {
   "cell_type": "code",
   "execution_count": 16,
   "metadata": {},
   "outputs": [
    {
     "name": "stderr",
     "output_type": "stream",
     "text": [
      "C:\\Users\\User\\AppData\\Local\\conda\\conda\\envs\\tf-gpu\\lib\\site-packages\\plotly\\figure_factory\\_county_choropleth.py:771: UserWarning:\n",
      "\n",
      "Unrecognized FIPS Values\n",
      "\n",
      "Whoops! It looks like you are trying to pass at least one FIPS value that is not in our shapefile of FIPS and data for the counties. Your choropleth will still show up but these counties cannot be shown.\n",
      "Unrecognized FIPS are: [19633, 28473, 31868, 32261, 37520, 37606, 37608, 40423, 42012]\n",
      "\n"
     ]
    },
    {
     "data": {
      "text/html": [
       "<iframe id=\"igraph\" scrolling=\"no\" style=\"border:none;\" seamless=\"seamless\" src=\"https://plot.ly/~asabran/26.embed\" height=\"450px\" width=\"900px\"></iframe>"
      ],
      "text/plain": [
       "<plotly.tools.PlotlyDisplay object>"
      ]
     },
     "execution_count": 16,
     "metadata": {},
     "output_type": "execute_result"
    }
   ],
   "source": [
    "eighty_quantile=chemicals_index.quantile(.75)\n",
    "chemicals_index_eighty=chemicals_index[chemicals_index>eighty_quantile]\n",
    "\n",
    "bins=[]\n",
    "\n",
    "for q in np.linspace(0,1,5):\n",
    "    bins.append(chemicals_index_eighty.quantile(q))\n",
    "\n",
    "fig = ff.create_choropleth(fips=chemicals_index_eighty.index.values, values=chemicals_index_eighty,binning_endpoints=bins)\n",
    "py.iplot(fig, filename=\"Top 75% polluted counties \")"
   ]
  },
  {
   "cell_type": "markdown",
   "metadata": {},
   "source": [
    "This map shows the top 25% of counties with the highest water pollution levels. It seems that industrial states in the North-East and agricultural states in the center are most associated with high water pollution levels. Following this intuition, we tried to explain water pollution levels in any county by the relative share of each industry in those counties."
   ]
  },
  {
   "cell_type": "markdown",
   "metadata": {},
   "source": [
    "#### III. Features set 1: Industry shares in each county"
   ]
  },
  {
   "cell_type": "markdown",
   "metadata": {},
   "source": [
    "#### III. Features set 2: Industry profitability"
   ]
  },
  {
   "cell_type": "markdown",
   "metadata": {},
   "source": [
    "#### IV. Conclusion"
   ]
  },
  {
   "cell_type": "code",
   "execution_count": 6,
   "metadata": {},
   "outputs": [
    {
     "data": {
      "image/png": "[encoded data removed]",
      "text/plain": [
       "<Figure size 432x288 with 1 Axes>"
      ]
     },
     "metadata": {
      "needs_background": "light"
     },
     "output_type": "display_data"
    }
   ],
   "source": [
    "final_groups.plot()\n",
    "plt.grid()"
   ]
  }
 ],
 "metadata": {
  "kernelspec": {
   "display_name": "Python [conda env:tf-gpu]",
   "language": "python",
   "name": "conda-env-tf-gpu-py"
  },
  "language_info": {
   "codemirror_mode": {
    "name": "ipython",
    "version": 3
   },
   "file_extension": ".py",
   "mimetype": "text/x-python",
   "name": "python",
   "nbconvert_exporter": "python",
   "pygments_lexer": "ipython3",
   "version": "3.6.6"
  }
 },
 "nbformat": 4,
 "nbformat_minor": 2
}
