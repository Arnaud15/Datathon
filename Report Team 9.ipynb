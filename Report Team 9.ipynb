{
 "cells": [
  {
   "cell_type": "markdown",
   "metadata": {},
   "source": [
    "# Report Team 9: Sustainable water resources in the United States"
   ]
  },
  {
   "cell_type": "markdown",
   "metadata": {},
   "source": [
    "## 1. Executive Summary"
   ]
  },
  {
   "cell_type": "markdown",
   "metadata": {},
   "source": [
    "Today, the sustainable management of water resources is a key objective our team decided to tackle. In the meantime, water pollution and water consumption are two significant threats to this endeavor that we thought could be analyzed using the datasets available. Therefore, the issue around which our report is organized is the following:"
   ]
  },
  {
   "cell_type": "markdown",
   "metadata": {},
   "source": [
    "#### Which economic factors are most predictive of high water pollution and water consumption levels?"
   ]
  },
  {
   "cell_type": "markdown",
   "metadata": {},
   "source": [
    "We followed similar steps to identify predictive factors to the two variables of water consumption and water pollution and proceeded as follows:"
   ]
  },
  {
   "cell_type": "markdown",
   "metadata": {},
   "source": [
    "#### I. Definition of the variables to predict: water pollution and water consumption levels\n",
    "#### II. Visualizations on a map of the US territory\n",
    "#### III. Core work on features engineering and regression\n",
    "#### IV. Conclusion"
   ]
  },
  {
   "cell_type": "markdown",
   "metadata": {},
   "source": [
    "### Insights obtained"
   ]
  },
  {
   "cell_type": "markdown",
   "metadata": {},
   "source": [
    "Blabla final"
   ]
  },
  {
   "cell_type": "markdown",
   "metadata": {},
   "source": [
    "## 2. Technical exposition"
   ]
  },
  {
   "cell_type": "markdown",
   "metadata": {},
   "source": [
    "#### Modules Import"
   ]
  },
  {
   "cell_type": "code",
   "execution_count": 20,
   "metadata": {},
   "outputs": [],
   "source": [
    "import pandas as pd\n",
    "import matplotlib.pyplot as plt\n",
    "import numpy as np\n",
    "import seaborn as sns\n",
    "from sklearn.cluster import KMeans\n",
    "from sklearn.linear_model import LinearRegression, Lasso, Ridge\n",
    "from sklearn.preprocessing import StandardScaler\n",
    "import lightgbm as lgb\n",
    "import plotly.plotly as py\n",
    "import plotly.figure_factory as ff\n",
    "import plotly.tools as tls\n",
    "tls.set_credentials_file(username='amaury.s', api_key='cxNz8wCOgQaMiGjiBN7k')\n",
    "\n",
    "plt.rcParams['figure.figsize'] = (15.0, 10.0)"
   ]
  },
  {
   "cell_type": "markdown",
   "metadata": {},
   "source": [
    "#### Datasets import"
   ]
  },
  {
   "cell_type": "code",
   "execution_count": 31,
   "metadata": {},
   "outputs": [],
   "source": [
    "data_chemicals = pd.read_csv(\"chemicals.csv\", encoding = \"utf-8\")\n",
    "data_drought = pd.read_csv(\"droughts.csv\", encoding = \"utf-8\")\n",
    "data_education = pd.read_csv(\"education_attainment.csv\", encoding = \"latin1\")\n",
    "data_industry_occupation = pd.read_csv(\"industry_occupation.csv\", encoding=\"latin1\")\n",
    "data_industry_earnings = pd.read_csv(\"earnings.csv\", encoding=\"latin1\")\n",
    "data_water = pd.read_csv(\"water_usage.csv\")"
   ]
  },
  {
   "cell_type": "markdown",
   "metadata": {},
   "source": [
    "### 2.1 Analysis of water pollution"
   ]
  },
  {
   "cell_type": "markdown",
   "metadata": {},
   "source": [
    "#### I. Water pollution definition"
   ]
  },
  {
   "cell_type": "markdown",
   "metadata": {},
   "source": [
    "The definition of a proper water pollution metric proved challenging. First, we decided to focus on water pollution by chemicals: the only direct pollution measure available in the dataset, in the table **chemicals**:"
   ]
  },
  {
   "cell_type": "code",
   "execution_count": 22,
   "metadata": {},
   "outputs": [
    {
     "data": {
      "text/html": [
       "<div>\n",
       "<style scoped>\n",
       "    .dataframe tbody tr th:only-of-type {\n",
       "        vertical-align: middle;\n",
       "    }\n",
       "\n",
       "    .dataframe tbody tr th {\n",
       "        vertical-align: top;\n",
       "    }\n",
       "\n",
       "    .dataframe thead th {\n",
       "        text-align: right;\n",
       "    }\n",
       "</style>\n",
       "<table border=\"1\" class=\"dataframe\">\n",
       "  <thead>\n",
       "    <tr style=\"text-align: right;\">\n",
       "      <th></th>\n",
       "      <th>cws_name</th>\n",
       "      <th>chemical_species</th>\n",
       "      <th>contaminant_level</th>\n",
       "      <th>county</th>\n",
       "      <th>pws_id</th>\n",
       "      <th>pop_served</th>\n",
       "      <th>state</th>\n",
       "      <th>unit_measurement</th>\n",
       "      <th>value</th>\n",
       "      <th>year</th>\n",
       "      <th>fips</th>\n",
       "      <th>state_fips</th>\n",
       "    </tr>\n",
       "  </thead>\n",
       "  <tbody>\n",
       "    <tr>\n",
       "      <th>0</th>\n",
       "      <td>CALIFORNIA WATER SERVICE - LIVERMORE</td>\n",
       "      <td>Uranium</td>\n",
       "      <td>Less than or equal MCL</td>\n",
       "      <td>Alameda</td>\n",
       "      <td>CA0110003</td>\n",
       "      <td>57200</td>\n",
       "      <td>California</td>\n",
       "      <td>micrograms/L</td>\n",
       "      <td>1.54</td>\n",
       "      <td>2000</td>\n",
       "      <td>6001</td>\n",
       "      <td>6</td>\n",
       "    </tr>\n",
       "    <tr>\n",
       "      <th>1</th>\n",
       "      <td>CITY OF LIVERMORE</td>\n",
       "      <td>Uranium</td>\n",
       "      <td>Less than or equal MCL</td>\n",
       "      <td>Alameda</td>\n",
       "      <td>CA0110011</td>\n",
       "      <td>26400</td>\n",
       "      <td>California</td>\n",
       "      <td>micrograms/L</td>\n",
       "      <td>1.64</td>\n",
       "      <td>2000</td>\n",
       "      <td>6001</td>\n",
       "      <td>6</td>\n",
       "    </tr>\n",
       "    <tr>\n",
       "      <th>2</th>\n",
       "      <td>CITY OF PLEASANTON</td>\n",
       "      <td>Uranium</td>\n",
       "      <td>Less than or equal MCL</td>\n",
       "      <td>Alameda</td>\n",
       "      <td>CA0110008</td>\n",
       "      <td>70600</td>\n",
       "      <td>California</td>\n",
       "      <td>micrograms/L</td>\n",
       "      <td>1.64</td>\n",
       "      <td>2000</td>\n",
       "      <td>6001</td>\n",
       "      <td>6</td>\n",
       "    </tr>\n",
       "    <tr>\n",
       "      <th>3</th>\n",
       "      <td>DUBLIN SAN RAMON SERVICES DISTRICT</td>\n",
       "      <td>Uranium</td>\n",
       "      <td>Less than or equal MCL</td>\n",
       "      <td>Alameda</td>\n",
       "      <td>CA0110009</td>\n",
       "      <td>72500</td>\n",
       "      <td>California</td>\n",
       "      <td>micrograms/L</td>\n",
       "      <td>1.64</td>\n",
       "      <td>2000</td>\n",
       "      <td>6001</td>\n",
       "      <td>6</td>\n",
       "    </tr>\n",
       "    <tr>\n",
       "      <th>4</th>\n",
       "      <td>NORRIS CANYON PROPERTY OWNERS ASSN</td>\n",
       "      <td>Uranium</td>\n",
       "      <td>Less than or equal MCL</td>\n",
       "      <td>Alameda</td>\n",
       "      <td>CA0103040</td>\n",
       "      <td>100</td>\n",
       "      <td>California</td>\n",
       "      <td>micrograms/L</td>\n",
       "      <td>4.51</td>\n",
       "      <td>2000</td>\n",
       "      <td>6001</td>\n",
       "      <td>6</td>\n",
       "    </tr>\n",
       "  </tbody>\n",
       "</table>\n",
       "</div>"
      ],
      "text/plain": [
       "                               cws_name chemical_species  \\\n",
       "0  CALIFORNIA WATER SERVICE - LIVERMORE          Uranium   \n",
       "1                     CITY OF LIVERMORE          Uranium   \n",
       "2                    CITY OF PLEASANTON          Uranium   \n",
       "3    DUBLIN SAN RAMON SERVICES DISTRICT          Uranium   \n",
       "4    NORRIS CANYON PROPERTY OWNERS ASSN          Uranium   \n",
       "\n",
       "        contaminant_level   county     pws_id  pop_served       state  \\\n",
       "0  Less than or equal MCL  Alameda  CA0110003       57200  California   \n",
       "1  Less than or equal MCL  Alameda  CA0110011       26400  California   \n",
       "2  Less than or equal MCL  Alameda  CA0110008       70600  California   \n",
       "3  Less than or equal MCL  Alameda  CA0110009       72500  California   \n",
       "4  Less than or equal MCL  Alameda  CA0103040         100  California   \n",
       "\n",
       "  unit_measurement  value  year  fips  state_fips  \n",
       "0     micrograms/L   1.54  2000  6001           6  \n",
       "1     micrograms/L   1.64  2000  6001           6  \n",
       "2     micrograms/L   1.64  2000  6001           6  \n",
       "3     micrograms/L   1.64  2000  6001           6  \n",
       "4     micrograms/L   4.51  2000  6001           6  "
      ]
     },
     "execution_count": 22,
     "metadata": {},
     "output_type": "execute_result"
    }
   ],
   "source": [
    "data_chemicals.head()"
   ]
  },
  {
   "cell_type": "markdown",
   "metadata": {},
   "source": [
    "- The geographical scale we retained is the **county**\n",
    "\n",
    "The challenge is then to aggregate chemicals data in a sensible way at the county level. To do so, we chose the following **assumption and definition**:"
   ]
  },
  {
   "cell_type": "markdown",
   "metadata": {},
   "source": [
    "- The **volume of water** consumed by human activities on a county's territory is assumed to be proportional to the total population of the county\n",
    "- The **level of chemicals** spread in the volume of water distributed by a given water system **cws**, in a given county, is defined as the number $N$ of contaminants whose level in this water system is classified to 'greater_than_MCL'. This $N$ is then averaged on all the water systems in the county, with *weights* equal to the population supplied by each water system.\n",
    "\n",
    "Given the above assumption on any county's water volume, the definition of a county's chemical level as a weighted averaged of contaminants in high concentrations is consistent, because the weights correspond to populations supplied by water systems and sum to the county's total population."
   ]
  },
  {
   "cell_type": "markdown",
   "metadata": {},
   "source": [
    "#### Data wrangling to obtain the chemicals_index:"
   ]
  },
  {
   "cell_type": "code",
   "execution_count": 23,
   "metadata": {},
   "outputs": [],
   "source": [
    "data_chemicals['greater_than_MCL'] = (data_chemicals['contaminant_level'] == \"Greater than MCL\") * 1.\n",
    "groups = data_chemicals.groupby([\"year\", \"pws_id\"])['pop_served', 'greater_than_MCL'].mean()\n",
    "groups['greater_than_MCL'] *= data_chemicals.groupby([\"year\", \"pws_id\"])['greater_than_MCL'].count()\n",
    "groups['index_weight'] = groups['pop_served'] * groups['greater_than_MCL']\n",
    "final_groups = groups.groupby(\"year\")['index_weight'].sum() / groups.groupby(\"year\")['pop_served'].sum()"
   ]
  },
  {
   "cell_type": "code",
   "execution_count": 24,
   "metadata": {},
   "outputs": [],
   "source": [
    "data_chemicals = data_chemicals[data_chemicals['year']==2010]\n",
    "data_chemicals = data_chemicals.set_index(data_chemicals['fips'])\n",
    "groups = data_chemicals.groupby(\"cws_name\")[['greater_than_MCL', 'fips', \"pop_served\"]].mean()\n",
    "groups['greater_than_MCL'] *= data_chemicals.groupby(\"cws_name\")['greater_than_MCL'].count()\n",
    "groups['index_with_weights'] = groups['greater_than_MCL']*groups['pop_served']\n",
    "groups['fips'] = groups['fips'].astype(int)\n",
    "chemicals_index = groups.groupby(\"fips\")['index_with_weights'].sum() / groups.groupby(\"fips\")['pop_served'].sum()"
   ]
  },
  {
   "cell_type": "markdown",
   "metadata": {},
   "source": [
    "#### II. Visualization: countys with highest water pollution levels"
   ]
  },
  {
   "cell_type": "code",
   "execution_count": 25,
   "metadata": {},
   "outputs": [
    {
     "name": "stderr",
     "output_type": "stream",
     "text": [
      "C:\\Users\\User\\AppData\\Local\\conda\\conda\\envs\\tf-gpu\\lib\\site-packages\\plotly\\figure_factory\\_county_choropleth.py:771: UserWarning:\n",
      "\n",
      "Unrecognized FIPS Values\n",
      "\n",
      "Whoops! It looks like you are trying to pass at least one FIPS value that is not in our shapefile of FIPS and data for the counties. Your choropleth will still show up but these counties cannot be shown.\n",
      "Unrecognized FIPS are: [19633, 28473, 31868, 32261, 37520, 37606, 37608, 40423, 42012]\n",
      "\n"
     ]
    },
    {
     "name": "stdout",
     "output_type": "stream",
     "text": [
      "High five! You successfully sent some data to your account on plotly. View your plot in your browser at https://plot.ly/~amaury.s/0 or inside your plot.ly account where it is named 'Top 75% polluted counties '\n"
     ]
    },
    {
     "data": {
      "text/html": [
       "<iframe id=\"igraph\" scrolling=\"no\" style=\"border:none;\" seamless=\"seamless\" src=\"https://plot.ly/~amaury.s/0.embed\" height=\"450px\" width=\"900px\"></iframe>"
      ],
      "text/plain": [
       "<plotly.tools.PlotlyDisplay object>"
      ]
     },
     "execution_count": 25,
     "metadata": {},
     "output_type": "execute_result"
    }
   ],
   "source": [
    "eighty_quantile=chemicals_index.quantile(.75)\n",
    "chemicals_index_eighty=chemicals_index[chemicals_index>eighty_quantile]\n",
    "\n",
    "bins=[]\n",
    "\n",
    "for q in np.linspace(0,1,5):\n",
    "    bins.append(chemicals_index_eighty.quantile(q))\n",
    "\n",
    "fig = ff.create_choropleth(fips=chemicals_index_eighty.index.values, values=chemicals_index_eighty,binning_endpoints=bins)\n",
    "py.iplot(fig, filename=\"Top 75% polluted counties \")"
   ]
  },
  {
   "cell_type": "markdown",
   "metadata": {},
   "source": [
    "This map shows the top 25% of counties with the highest water pollution levels. It seems that industrial states in the North-East and agricultural states in the center are most associated with high water pollution levels. Following this intuition, we tried to explain water pollution levels in any county by the relative share of each industry in those counties."
   ]
  },
  {
   "cell_type": "markdown",
   "metadata": {},
   "source": [
    "#### III. Features set 1: Industry shares in each county"
   ]
  },
  {
   "cell_type": "markdown",
   "metadata": {},
   "source": [
    "First of all, we define the share of a given industry sector in a county as the percentage of the working population employed in this sector. More precisely:\n",
    "\n",
    "$$ Industry\\ share = 100 \\times \\frac{Population\\ employed\\ by\\ industry}{Total\\ working\\ population\\ in\\ county}$$\n",
    "\n",
    "**Hypothesis**: The shares of certain industry sectors is positively / negatively correlated with the pollution index.\n",
    "\n",
    "*Remark: this approach does not differentiate between counties with large and small populations. This is roughly equivalent to assuming that a county's water reserves (which can be polluted by industries) are proportional to its population, which is a debatable assumption.*\n",
    "\n",
    "Using a linear model, we build a predictive model of water pollution based on the industry share (both in 2010) of the following sectors:\n",
    "\n",
    "- Agriculture\n",
    "- Construction\n",
    "- Manufacturing\n",
    "- Wholesale trade\n",
    "- Retail trade\n",
    "- Transport and utilities\n",
    "- Information\n",
    "- Finance, insurance and real estate\n",
    "- prof_scientific_waste\n",
    "- Education and health\n",
    "- Arts and entertainment\n",
    "- Public administration\n",
    "- Other\n",
    "\n",
    "This leads to the following weights:"
   ]
  },
  {
   "cell_type": "code",
   "execution_count": 33,
   "metadata": {},
   "outputs": [
    {
     "data": {
      "image/png": "[encoded data removed]",
      "text/plain": [
       "<Figure size 1080x720 with 1 Axes>"
      ]
     },
     "metadata": {
      "needs_background": "light"
     },
     "output_type": "display_data"
    }
   ],
   "source": [
    "data_industry_earnings = data_industry_earnings[data_industry_earnings['year'] == 2010]\n",
    "data_industry_occupation = data_industry_occupation[data_industry_occupation['year'] == 2010]\n",
    "\n",
    "data_industry_occupation = data_industry_occupation.set_index(data_industry_occupation['fips'])\n",
    "data_industry_earnings = data_industry_earnings.set_index(data_industry_earnings['fips'])\n",
    "\n",
    "sectors_occupation = ['agriculture', 'construction', 'manufacturing', 'wholesale_trade', 'retail_trade', 'transport_utilities', 'information', 'finance_insurance_realestate', 'prof_scientific_waste', 'edu_health', 'arts_recreation', 'other', 'public_admin']\n",
    "industry_occ_pop = data_industry_occupation[sectors_occupation]\n",
    "industry_occ_pop['chemicals'] = chemicals_index\n",
    "industry_occ_pop['total_employed'] = data_industry_occupation['total_employed']\n",
    "industry_occ_pop = industry_occ_pop.dropna()\n",
    "\n",
    "for col in sectors_occupation:\n",
    "    industry_occ_pop[col] = 100. * industry_occ_pop[col]/industry_occ_pop['total_employed']\n",
    "\n",
    "X = industry_occ_pop[sectors_occupation]\n",
    "Y = industry_occ_pop['chemicals']\n",
    "\n",
    "L = Ridge()\n",
    "L.fit(X, Y.values.reshape(-1,1))\n",
    "\n",
    "ind = np.arange(len(L.coef_.flatten()))\n",
    "width = 0.35\n",
    "fig, ax = plt.subplots()\n",
    "ax.bar(ind+width, L.coef_.flatten())\n",
    "ax.set_xticks(ind+width/2.)\n",
    "ax.set_xticklabels(sectors_occupation)\n",
    "plt.xticks(rotation=45)\n",
    "plt.grid()\n",
    "plt.ylabel(\"Weight in linear model of chemical index\")\n",
    "plt.show()"
   ]
  },
  {
   "cell_type": "markdown",
   "metadata": {},
   "source": [
    "#### III. Features set 2: Industry profitability"
   ]
  },
  {
   "cell_type": "markdown",
   "metadata": {},
   "source": [
    "In this section, we investigate the link between the profitability of the various sectors and water pollution levels in U.S. counties. A good proxy for the profitability of an industry is the median revenue of the people it employs. To take account of the diversity of costs of living across the US, we instead consider these values relative to the median revenue in a given county (that is to say the profitability of a given sector w.r.t. the median revenue in the county). For a given sector, we then average these relative values across all counties in the US.\n",
    "\n",
    "**Hypothesis**: the local profitability of some industries is positively or negatively correlated with the level of water pollution in a county.\n",
    "\n",
    "We then fit a multivariate linear model to predict the level of water pollution given the county-level profitability of the following industry sectors:\n",
    "\n",
    "- Agriculture, fishing and mining\n",
    "- Construction\n",
    "- Manufacturing\n",
    "- Wholesale trade\n",
    "- Retail trade\n",
    "- Transport, warehouse and utilities\n",
    "- Information\n",
    "- Finance, insurance and real estate\n",
    "- **total_prof_sci_mgmt_admin**\n",
    "- Education, health and social\n",
    "- Arts, entertainment and food\n",
    "- Public administration\n",
    "- Other services\n",
    "\n",
    "We obtain the following weights for the various industries:"
   ]
  },
  {
   "cell_type": "code",
   "execution_count": 35,
   "metadata": {},
   "outputs": [
    {
     "data": {
      "image/png": "[encoded data removed]",
      "text/plain": [
       "<Figure size 1080x720 with 1 Axes>"
      ]
     },
     "metadata": {
      "needs_background": "light"
     },
     "output_type": "display_data"
    }
   ],
   "source": [
    "sectors_earnings = ['total_agri_fish_mine', 'construction', 'manufacturing', 'wholesale_trade', 'retail_trade', 'transport_warehouse_utilities', 'information', 'fin_ins_realest', 'total_prof_sci_mgmt_admin', 'total_edu_health_social', 'total_arts_ent_acc_food', 'other_ser', 'pub_admin']\n",
    "\n",
    "for sector in sectors_earnings:\n",
    "    if(data_industry_earnings[sector].dtype != float):\n",
    "        data_industry_earnings[sector] = data_industry_earnings[sector].str.replace('-','')\n",
    "        data_industry_earnings[sector] = data_industry_earnings[sector].str.replace('+','')\n",
    "        data_industry_earnings[sector] = data_industry_earnings[sector].str.replace(',','')\n",
    "        data_industry_earnings[sector] = data_industry_earnings[sector].astype(float)\n",
    "\n",
    "industry_earnings = data_industry_earnings[sectors_earnings]\n",
    "industry_earnings['chemicals'] = chemicals_index\n",
    "industry_earnings['total_med'] = data_industry_earnings['total_med']\n",
    "\n",
    "for sector in sectors_earnings:\n",
    "    industry_earnings[sector] = (industry_earnings[sector] - industry_earnings['total_med']) / industry_earnings['total_med']\n",
    "    industry_earnings[sector] = (industry_earnings[sector] - industry_earnings[sector].mean()) / industry_earnings[sector].std()\n",
    "\n",
    "industry_earnings = industry_earnings.dropna()\n",
    "\n",
    "X = industry_earnings[sectors_earnings]\n",
    "Y = industry_earnings['chemicals']\n",
    "\n",
    "L = Ridge()\n",
    "L.fit(X.values, Y.values.reshape(-1,1))\n",
    "\n",
    "ind = np.arange(len(L.coef_.flatten()))\n",
    "width = 0.35\n",
    "fig, ax = plt.subplots()\n",
    "ax.bar(ind+width, L.coef_.flatten())\n",
    "ax.set_xticks(ind+width/2.)\n",
    "ax.set_xticklabels(sectors_earnings)\n",
    "plt.xticks(rotation=45)\n",
    "plt.grid()\n",
    "plt.ylabel(\"Weight\")\n",
    "plt.show()"
   ]
  },
  {
   "cell_type": "markdown",
   "metadata": {},
   "source": [
    "#### IV. Conclusion"
   ]
  },
  {
   "cell_type": "code",
   "execution_count": 26,
   "metadata": {},
   "outputs": [
    {
     "data": {
      "image/png": "[encoded data removed]",
      "text/plain": [
       "<Figure size 1080x720 with 1 Axes>"
      ]
     },
     "metadata": {
      "needs_background": "light"
     },
     "output_type": "display_data"
    }
   ],
   "source": [
    "final_groups.plot()\n",
    "plt.grid()"
   ]
  },
  {
   "cell_type": "markdown",
   "metadata": {},
   "source": [
    "### 2.2 Analysis of water consumption"
   ]
  },
  {
   "cell_type": "code",
   "execution_count": null,
   "metadata": {},
   "outputs": [],
   "source": []
  },
  {
   "cell_type": "markdown",
   "metadata": {},
   "source": [
    "### 2.2 Analysis of water consumption"
   ]
  },
  {
   "cell_type": "markdown",
   "metadata": {},
   "source": [
    "#### I. Water consumption dataset"
   ]
  },
  {
   "cell_type": "markdown",
   "metadata": {},
   "source": [
    "Water consumption data is available in the **water_usage** table"
   ]
  },
  {
   "cell_type": "code",
   "execution_count": 32,
   "metadata": {},
   "outputs": [
    {
     "data": {
      "text/html": [
       "<div>\n",
       "<style scoped>\n",
       "    .dataframe tbody tr th:only-of-type {\n",
       "        vertical-align: middle;\n",
       "    }\n",
       "\n",
       "    .dataframe tbody tr th {\n",
       "        vertical-align: top;\n",
       "    }\n",
       "\n",
       "    .dataframe thead th {\n",
       "        text-align: right;\n",
       "    }\n",
       "</style>\n",
       "<table border=\"1\" class=\"dataframe\">\n",
       "  <thead>\n",
       "    <tr style=\"text-align: right;\">\n",
       "      <th></th>\n",
       "      <th>state</th>\n",
       "      <th>state_fips</th>\n",
       "      <th>county</th>\n",
       "      <th>county_fips</th>\n",
       "      <th>fips</th>\n",
       "      <th>year</th>\n",
       "      <th>population</th>\n",
       "      <th>pub_sup_1</th>\n",
       "      <th>pub_sup_2</th>\n",
       "      <th>pub_sup_3</th>\n",
       "      <th>...</th>\n",
       "      <th>thermoelectric_30</th>\n",
       "      <th>gro_wat_1</th>\n",
       "      <th>gro_wat_2</th>\n",
       "      <th>gro_wat_3</th>\n",
       "      <th>surf_wat_1</th>\n",
       "      <th>surf_wat_2</th>\n",
       "      <th>surf_wat_3</th>\n",
       "      <th>total_withdrawal_1</th>\n",
       "      <th>total_withdrawal_2</th>\n",
       "      <th>total_withdrawal_3</th>\n",
       "    </tr>\n",
       "  </thead>\n",
       "  <tbody>\n",
       "    <tr>\n",
       "      <th>0</th>\n",
       "      <td>AL</td>\n",
       "      <td>1</td>\n",
       "      <td>Autauga County</td>\n",
       "      <td>1</td>\n",
       "      <td>1001</td>\n",
       "      <td>2010</td>\n",
       "      <td>54.571</td>\n",
       "      <td>NaN</td>\n",
       "      <td>NaN</td>\n",
       "      <td>48.222</td>\n",
       "      <td>...</td>\n",
       "      <td>6738.26</td>\n",
       "      <td>18.38</td>\n",
       "      <td>0.0</td>\n",
       "      <td>18.38</td>\n",
       "      <td>37.17</td>\n",
       "      <td>0.0</td>\n",
       "      <td>37.17</td>\n",
       "      <td>55.55</td>\n",
       "      <td>0.0</td>\n",
       "      <td>55.55</td>\n",
       "    </tr>\n",
       "    <tr>\n",
       "      <th>1</th>\n",
       "      <td>AL</td>\n",
       "      <td>1</td>\n",
       "      <td>Baldwin County</td>\n",
       "      <td>3</td>\n",
       "      <td>1003</td>\n",
       "      <td>2010</td>\n",
       "      <td>182.265</td>\n",
       "      <td>NaN</td>\n",
       "      <td>NaN</td>\n",
       "      <td>153.463</td>\n",
       "      <td>...</td>\n",
       "      <td>0.00</td>\n",
       "      <td>57.35</td>\n",
       "      <td>0.0</td>\n",
       "      <td>57.35</td>\n",
       "      <td>7.01</td>\n",
       "      <td>0.0</td>\n",
       "      <td>7.01</td>\n",
       "      <td>64.36</td>\n",
       "      <td>0.0</td>\n",
       "      <td>64.36</td>\n",
       "    </tr>\n",
       "    <tr>\n",
       "      <th>2</th>\n",
       "      <td>AL</td>\n",
       "      <td>1</td>\n",
       "      <td>Barbour County</td>\n",
       "      <td>5</td>\n",
       "      <td>1005</td>\n",
       "      <td>2010</td>\n",
       "      <td>27.457</td>\n",
       "      <td>NaN</td>\n",
       "      <td>NaN</td>\n",
       "      <td>25.555</td>\n",
       "      <td>...</td>\n",
       "      <td>0.00</td>\n",
       "      <td>6.71</td>\n",
       "      <td>0.0</td>\n",
       "      <td>6.71</td>\n",
       "      <td>4.34</td>\n",
       "      <td>0.0</td>\n",
       "      <td>4.34</td>\n",
       "      <td>11.05</td>\n",
       "      <td>0.0</td>\n",
       "      <td>11.05</td>\n",
       "    </tr>\n",
       "    <tr>\n",
       "      <th>3</th>\n",
       "      <td>AL</td>\n",
       "      <td>1</td>\n",
       "      <td>Bibb County</td>\n",
       "      <td>7</td>\n",
       "      <td>1007</td>\n",
       "      <td>2010</td>\n",
       "      <td>22.915</td>\n",
       "      <td>NaN</td>\n",
       "      <td>NaN</td>\n",
       "      <td>21.279</td>\n",
       "      <td>...</td>\n",
       "      <td>0.00</td>\n",
       "      <td>6.06</td>\n",
       "      <td>0.0</td>\n",
       "      <td>6.06</td>\n",
       "      <td>1.55</td>\n",
       "      <td>0.0</td>\n",
       "      <td>1.55</td>\n",
       "      <td>7.61</td>\n",
       "      <td>0.0</td>\n",
       "      <td>7.61</td>\n",
       "    </tr>\n",
       "    <tr>\n",
       "      <th>4</th>\n",
       "      <td>AL</td>\n",
       "      <td>1</td>\n",
       "      <td>Blount County</td>\n",
       "      <td>9</td>\n",
       "      <td>1009</td>\n",
       "      <td>2010</td>\n",
       "      <td>57.322</td>\n",
       "      <td>NaN</td>\n",
       "      <td>NaN</td>\n",
       "      <td>44.464</td>\n",
       "      <td>...</td>\n",
       "      <td>0.00</td>\n",
       "      <td>4.04</td>\n",
       "      <td>0.0</td>\n",
       "      <td>4.04</td>\n",
       "      <td>53.04</td>\n",
       "      <td>0.0</td>\n",
       "      <td>53.04</td>\n",
       "      <td>57.08</td>\n",
       "      <td>0.0</td>\n",
       "      <td>57.08</td>\n",
       "    </tr>\n",
       "  </tbody>\n",
       "</table>\n",
       "<p>5 rows × 117 columns</p>\n",
       "</div>"
      ],
      "text/plain": [
       "  state  state_fips          county  county_fips  fips  year  population  \\\n",
       "0    AL           1  Autauga County            1  1001  2010      54.571   \n",
       "1    AL           1  Baldwin County            3  1003  2010     182.265   \n",
       "2    AL           1  Barbour County            5  1005  2010      27.457   \n",
       "3    AL           1     Bibb County            7  1007  2010      22.915   \n",
       "4    AL           1   Blount County            9  1009  2010      57.322   \n",
       "\n",
       "   pub_sup_1  pub_sup_2  pub_sup_3         ...          thermoelectric_30  \\\n",
       "0        NaN        NaN     48.222         ...                    6738.26   \n",
       "1        NaN        NaN    153.463         ...                       0.00   \n",
       "2        NaN        NaN     25.555         ...                       0.00   \n",
       "3        NaN        NaN     21.279         ...                       0.00   \n",
       "4        NaN        NaN     44.464         ...                       0.00   \n",
       "\n",
       "   gro_wat_1  gro_wat_2  gro_wat_3  surf_wat_1  surf_wat_2  surf_wat_3  \\\n",
       "0      18.38        0.0      18.38       37.17         0.0       37.17   \n",
       "1      57.35        0.0      57.35        7.01         0.0        7.01   \n",
       "2       6.71        0.0       6.71        4.34         0.0        4.34   \n",
       "3       6.06        0.0       6.06        1.55         0.0        1.55   \n",
       "4       4.04        0.0       4.04       53.04         0.0       53.04   \n",
       "\n",
       "   total_withdrawal_1  total_withdrawal_2  total_withdrawal_3  \n",
       "0               55.55                 0.0               55.55  \n",
       "1               64.36                 0.0               64.36  \n",
       "2               11.05                 0.0               11.05  \n",
       "3                7.61                 0.0                7.61  \n",
       "4               57.08                 0.0               57.08  \n",
       "\n",
       "[5 rows x 117 columns]"
      ]
     },
     "execution_count": 32,
     "metadata": {},
     "output_type": "execute_result"
    }
   ],
   "source": [
    "data_water.head()"
   ]
  },
  {
   "cell_type": "markdown",
   "metadata": {},
   "source": [
    "We quickly realize that we need to cut down the number of columns to only keep the most relevant ones:"
   ]
  },
  {
   "cell_type": "markdown",
   "metadata": {},
   "source": [
    "#### Data cleaning:"
   ]
  },
  {
   "cell_type": "code",
   "execution_count": 28,
   "metadata": {},
   "outputs": [],
   "source": [
    "data_water = data_water.loc[data_water['year']==2010]\n",
    "data_water = data_water.drop(['state','state_fips','county','county_fips','year'],axis=1)\n",
    "for name in ['pub_sup','dom_sup','ind','irrigation','crop','golf','livestock','aqua','mining','thermoelectric','gro_wat','surf_wat','total']:\n",
    "    cols_name = [n for n in data_water.columns if n.startswith(name)]\n",
    "    cols_name.sort(key=lambda n : int(n.split('_')[-1]))\n",
    "    col_kept = cols_name[-1]\n",
    "    \n",
    "    data_water['_'.join(col_kept.split('_')[:-1])] = data_water[col_kept]\n",
    "    data_water = data_water.drop(cols_name,axis=1)\n",
    "    \n",
    "data_water = data_water.set_index('fips')"
   ]
  },
  {
   "cell_type": "markdown",
   "metadata": {},
   "source": [
    "#### II. Visualization: countys with highest water consumption levels"
   ]
  },
  {
   "cell_type": "code",
   "execution_count": 29,
   "metadata": {},
   "outputs": [
    {
     "data": {
      "text/html": [
       "<iframe id=\"igraph\" scrolling=\"no\" style=\"border:none;\" seamless=\"seamless\" src=\"https://plot.ly/~amaury.s/2.embed\" height=\"450px\" width=\"900px\"></iframe>"
      ],
      "text/plain": [
       "<plotly.tools.PlotlyDisplay object>"
      ]
     },
     "execution_count": 29,
     "metadata": {},
     "output_type": "execute_result"
    }
   ],
   "source": [
    "total_water = data_water['total_withdrawal']\n",
    "\n",
    "eighty_quantile=total_water.quantile(.75)\n",
    "total_water_eighty=total_water[total_water>eighty_quantile]\n",
    "\n",
    "bins=[]\n",
    "\n",
    "for q in np.linspace(0,1,5):\n",
    "    bins.append(total_water_eighty.quantile(q))\n",
    "\n",
    "fig = ff.create_choropleth(fips=total_water_eighty.index.values, values=total_water_eighty,binning_endpoints=bins)\n",
    "py.iplot(fig, filename=\"Top 25% water consumption counties \")"
   ]
  },
  {
   "cell_type": "markdown",
   "metadata": {},
   "source": [
    "This map shows the top 25% of counties with the highest water pollution levels. It seems that industrial states in the North-East and agricultural states in the center are most associated with high water pollution levels. Following this intuition, we tried to explain water pollution levels in any county by the relative share of each industry in those counties."
   ]
  },
  {
   "cell_type": "markdown",
   "metadata": {},
   "source": [
    "#### III. Features set 1: Industry shares in each county"
   ]
  },
  {
   "cell_type": "code",
   "execution_count": 36,
   "metadata": {},
   "outputs": [
    {
     "ename": "ValueError",
     "evalue": "zero-size array to reduction operation minimum which has no identity",
     "output_type": "error",
     "traceback": [
      "\u001b[1;31m---------------------------------------------------------------------------\u001b[0m",
      "\u001b[1;31mValueError\u001b[0m                                Traceback (most recent call last)",
      "\u001b[1;32m<ipython-input-36-6f52699c9b89>\u001b[0m in \u001b[0;36m<module>\u001b[1;34m\u001b[0m\n\u001b[0;32m     24\u001b[0m sns.heatmap(corr, \n\u001b[0;32m     25\u001b[0m         \u001b[0mxticklabels\u001b[0m\u001b[1;33m=\u001b[0m\u001b[0moccupation_joined_consumption\u001b[0m\u001b[1;33m.\u001b[0m\u001b[0mcolumns\u001b[0m\u001b[1;33m,\u001b[0m\u001b[1;33m\u001b[0m\u001b[0m\n\u001b[1;32m---> 26\u001b[1;33m         yticklabels=occupation_joined_consumption.columns)\n\u001b[0m\u001b[0;32m     27\u001b[0m \u001b[0mplt\u001b[0m\u001b[1;33m.\u001b[0m\u001b[0mshow\u001b[0m\u001b[1;33m(\u001b[0m\u001b[1;33m)\u001b[0m\u001b[1;33m\u001b[0m\u001b[0m\n",
      "\u001b[1;32m~\\AppData\\Local\\conda\\conda\\envs\\tf-gpu\\lib\\site-packages\\seaborn\\matrix.py\u001b[0m in \u001b[0;36mheatmap\u001b[1;34m(data, vmin, vmax, cmap, center, robust, annot, fmt, annot_kws, linewidths, linecolor, cbar, cbar_kws, cbar_ax, square, xticklabels, yticklabels, mask, ax, **kwargs)\u001b[0m\n\u001b[0;32m    515\u001b[0m     plotter = _HeatMapper(data, vmin, vmax, cmap, center, robust, annot, fmt,\n\u001b[0;32m    516\u001b[0m                           \u001b[0mannot_kws\u001b[0m\u001b[1;33m,\u001b[0m \u001b[0mcbar\u001b[0m\u001b[1;33m,\u001b[0m \u001b[0mcbar_kws\u001b[0m\u001b[1;33m,\u001b[0m \u001b[0mxticklabels\u001b[0m\u001b[1;33m,\u001b[0m\u001b[1;33m\u001b[0m\u001b[0m\n\u001b[1;32m--> 517\u001b[1;33m                           yticklabels, mask)\n\u001b[0m\u001b[0;32m    518\u001b[0m \u001b[1;33m\u001b[0m\u001b[0m\n\u001b[0;32m    519\u001b[0m     \u001b[1;31m# Add the pcolormesh kwargs here\u001b[0m\u001b[1;33m\u001b[0m\u001b[1;33m\u001b[0m\u001b[0m\n",
      "\u001b[1;32m~\\AppData\\Local\\conda\\conda\\envs\\tf-gpu\\lib\\site-packages\\seaborn\\matrix.py\u001b[0m in \u001b[0;36m__init__\u001b[1;34m(self, data, vmin, vmax, cmap, center, robust, annot, fmt, annot_kws, cbar, cbar_kws, xticklabels, yticklabels, mask)\u001b[0m\n\u001b[0;32m    165\u001b[0m         \u001b[1;31m# Determine good default values for the colormapping\u001b[0m\u001b[1;33m\u001b[0m\u001b[1;33m\u001b[0m\u001b[0m\n\u001b[0;32m    166\u001b[0m         self._determine_cmap_params(plot_data, vmin, vmax,\n\u001b[1;32m--> 167\u001b[1;33m                                     cmap, center, robust)\n\u001b[0m\u001b[0;32m    168\u001b[0m \u001b[1;33m\u001b[0m\u001b[0m\n\u001b[0;32m    169\u001b[0m         \u001b[1;31m# Sort out the annotations\u001b[0m\u001b[1;33m\u001b[0m\u001b[1;33m\u001b[0m\u001b[0m\n",
      "\u001b[1;32m~\\AppData\\Local\\conda\\conda\\envs\\tf-gpu\\lib\\site-packages\\seaborn\\matrix.py\u001b[0m in \u001b[0;36m_determine_cmap_params\u001b[1;34m(self, plot_data, vmin, vmax, cmap, center, robust)\u001b[0m\n\u001b[0;32m    204\u001b[0m         \u001b[0mcalc_data\u001b[0m \u001b[1;33m=\u001b[0m \u001b[0mplot_data\u001b[0m\u001b[1;33m.\u001b[0m\u001b[0mdata\u001b[0m\u001b[1;33m[\u001b[0m\u001b[1;33m~\u001b[0m\u001b[0mnp\u001b[0m\u001b[1;33m.\u001b[0m\u001b[0misnan\u001b[0m\u001b[1;33m(\u001b[0m\u001b[0mplot_data\u001b[0m\u001b[1;33m.\u001b[0m\u001b[0mdata\u001b[0m\u001b[1;33m)\u001b[0m\u001b[1;33m]\u001b[0m\u001b[1;33m\u001b[0m\u001b[0m\n\u001b[0;32m    205\u001b[0m         \u001b[1;32mif\u001b[0m \u001b[0mvmin\u001b[0m \u001b[1;32mis\u001b[0m \u001b[1;32mNone\u001b[0m\u001b[1;33m:\u001b[0m\u001b[1;33m\u001b[0m\u001b[0m\n\u001b[1;32m--> 206\u001b[1;33m             \u001b[0mvmin\u001b[0m \u001b[1;33m=\u001b[0m \u001b[0mnp\u001b[0m\u001b[1;33m.\u001b[0m\u001b[0mpercentile\u001b[0m\u001b[1;33m(\u001b[0m\u001b[0mcalc_data\u001b[0m\u001b[1;33m,\u001b[0m \u001b[1;36m2\u001b[0m\u001b[1;33m)\u001b[0m \u001b[1;32mif\u001b[0m \u001b[0mrobust\u001b[0m \u001b[1;32melse\u001b[0m \u001b[0mcalc_data\u001b[0m\u001b[1;33m.\u001b[0m\u001b[0mmin\u001b[0m\u001b[1;33m(\u001b[0m\u001b[1;33m)\u001b[0m\u001b[1;33m\u001b[0m\u001b[0m\n\u001b[0m\u001b[0;32m    207\u001b[0m         \u001b[1;32mif\u001b[0m \u001b[0mvmax\u001b[0m \u001b[1;32mis\u001b[0m \u001b[1;32mNone\u001b[0m\u001b[1;33m:\u001b[0m\u001b[1;33m\u001b[0m\u001b[0m\n\u001b[0;32m    208\u001b[0m             \u001b[0mvmax\u001b[0m \u001b[1;33m=\u001b[0m \u001b[0mnp\u001b[0m\u001b[1;33m.\u001b[0m\u001b[0mpercentile\u001b[0m\u001b[1;33m(\u001b[0m\u001b[0mcalc_data\u001b[0m\u001b[1;33m,\u001b[0m \u001b[1;36m98\u001b[0m\u001b[1;33m)\u001b[0m \u001b[1;32mif\u001b[0m \u001b[0mrobust\u001b[0m \u001b[1;32melse\u001b[0m \u001b[0mcalc_data\u001b[0m\u001b[1;33m.\u001b[0m\u001b[0mmax\u001b[0m\u001b[1;33m(\u001b[0m\u001b[1;33m)\u001b[0m\u001b[1;33m\u001b[0m\u001b[0m\n",
      "\u001b[1;32m~\\AppData\\Local\\conda\\conda\\envs\\tf-gpu\\lib\\site-packages\\numpy\\core\\_methods.py\u001b[0m in \u001b[0;36m_amin\u001b[1;34m(a, axis, out, keepdims)\u001b[0m\n\u001b[0;32m     27\u001b[0m \u001b[1;33m\u001b[0m\u001b[0m\n\u001b[0;32m     28\u001b[0m \u001b[1;32mdef\u001b[0m \u001b[0m_amin\u001b[0m\u001b[1;33m(\u001b[0m\u001b[0ma\u001b[0m\u001b[1;33m,\u001b[0m \u001b[0maxis\u001b[0m\u001b[1;33m=\u001b[0m\u001b[1;32mNone\u001b[0m\u001b[1;33m,\u001b[0m \u001b[0mout\u001b[0m\u001b[1;33m=\u001b[0m\u001b[1;32mNone\u001b[0m\u001b[1;33m,\u001b[0m \u001b[0mkeepdims\u001b[0m\u001b[1;33m=\u001b[0m\u001b[1;32mFalse\u001b[0m\u001b[1;33m)\u001b[0m\u001b[1;33m:\u001b[0m\u001b[1;33m\u001b[0m\u001b[0m\n\u001b[1;32m---> 29\u001b[1;33m     \u001b[1;32mreturn\u001b[0m \u001b[0mumr_minimum\u001b[0m\u001b[1;33m(\u001b[0m\u001b[0ma\u001b[0m\u001b[1;33m,\u001b[0m \u001b[0maxis\u001b[0m\u001b[1;33m,\u001b[0m \u001b[1;32mNone\u001b[0m\u001b[1;33m,\u001b[0m \u001b[0mout\u001b[0m\u001b[1;33m,\u001b[0m \u001b[0mkeepdims\u001b[0m\u001b[1;33m)\u001b[0m\u001b[1;33m\u001b[0m\u001b[0m\n\u001b[0m\u001b[0;32m     30\u001b[0m \u001b[1;33m\u001b[0m\u001b[0m\n\u001b[0;32m     31\u001b[0m \u001b[1;32mdef\u001b[0m \u001b[0m_sum\u001b[0m\u001b[1;33m(\u001b[0m\u001b[0ma\u001b[0m\u001b[1;33m,\u001b[0m \u001b[0maxis\u001b[0m\u001b[1;33m=\u001b[0m\u001b[1;32mNone\u001b[0m\u001b[1;33m,\u001b[0m \u001b[0mdtype\u001b[0m\u001b[1;33m=\u001b[0m\u001b[1;32mNone\u001b[0m\u001b[1;33m,\u001b[0m \u001b[0mout\u001b[0m\u001b[1;33m=\u001b[0m\u001b[1;32mNone\u001b[0m\u001b[1;33m,\u001b[0m \u001b[0mkeepdims\u001b[0m\u001b[1;33m=\u001b[0m\u001b[1;32mFalse\u001b[0m\u001b[1;33m)\u001b[0m\u001b[1;33m:\u001b[0m\u001b[1;33m\u001b[0m\u001b[0m\n",
      "\u001b[1;31mValueError\u001b[0m: zero-size array to reduction operation minimum which has no identity"
     ]
    },
    {
     "data": {
      "text/plain": [
       "<Figure size 720x720 with 0 Axes>"
      ]
     },
     "metadata": {},
     "output_type": "display_data"
    }
   ],
   "source": [
    "data_industry_occupation = pd.read_csv(\"industry_occupation.csv\", encoding=\"latin1\")\n",
    "data_industry_occupation = data_industry_occupation[data_industry_occupation['year'] == 2010]\n",
    "data_industry_occupation = data_industry_occupation.set_index(data_industry_occupation['fips'])\n",
    "\n",
    "\n",
    "sectors_occupation = ['agriculture', 'construction', 'manufacturing', 'wholesale_trade', 'retail_trade', 'transport_utilities', 'information', 'finance_insurance_realestate', 'prof_scientific_waste', 'edu_health', 'arts_recreation', 'other', 'public_admin']\n",
    "industry_occ_pop = data_industry_occupation[sectors_occupation]\n",
    "industry_occ_pop['total_employed'] = data_industry_occupation['total_employed']\n",
    "industry_occ_pop = industry_occ_pop.dropna()\n",
    "\n",
    "for col in sectors_occupation:\n",
    "    industry_occ_pop[col] = 100. * industry_occ_pop[col]/industry_occ_pop['total_employed']\n",
    "\n",
    "occupation_joined_consumption = industry_occ_pop[sectors_occupation].join(data_water,how='inner')\n",
    "occupation_joined_consumption = occupation_joined_consumption.dropna()\n",
    "\n",
    "\n",
    "# calculate the correlation matrix\n",
    "corr = occupation_joined_consumption.corr()\n",
    "corr[corr<.3]=0\n",
    "\n",
    "# plot the heatmap\n",
    "plt.figure(figsize=(10,10))\n",
    "sns.heatmap(corr, \n",
    "        xticklabels=occupation_joined_consumption.columns,\n",
    "        yticklabels=occupation_joined_consumption.columns)\n",
    "plt.show()"
   ]
  },
  {
   "cell_type": "markdown",
   "metadata": {},
   "source": [
    "#### III. Features set 2: Industry profitability"
   ]
  },
  {
   "cell_type": "markdown",
   "metadata": {},
   "source": [
    "#### IV. Conclusion"
   ]
  },
  {
   "cell_type": "code",
   "execution_count": 6,
   "metadata": {},
   "outputs": [
    {
     "data": {
      "image/png": "[encoded data removed]",
      "text/plain": [
       "<Figure size 432x288 with 1 Axes>"
      ]
     },
     "metadata": {
      "needs_background": "light"
     },
     "output_type": "display_data"
    }
   ],
   "source": [
    "final_groups.plot()\n",
    "plt.grid()"
   ]
  }
 ],
 "metadata": {
  "kernelspec": {
   "display_name": "Python [conda env:tf-gpu]",
   "language": "python",
   "name": "conda-env-tf-gpu-py"
  },
  "language_info": {
   "codemirror_mode": {
    "name": "ipython",
    "version": 3
   },
   "file_extension": ".py",
   "mimetype": "text/x-python",
   "name": "python",
   "nbconvert_exporter": "python",
   "pygments_lexer": "ipython3",
   "version": "3.6.6"
  }
 },
 "nbformat": 4,
 "nbformat_minor": 2
}
