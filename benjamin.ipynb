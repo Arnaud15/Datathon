{
 "cells": [
  {
   "cell_type": "code",
   "execution_count": 1,
   "metadata": {},
   "outputs": [],
   "source": [
    "import pandas as pd\n",
    "import matplotlib.pyplot as plt\n",
    "import numpy as np\n",
    "import seaborn as sns\n",
    "from sklearn.cluster import KMeans\n",
    "from sklearn.linear_model import LinearRegression, Lasso, Ridge\n",
    "from sklearn.preprocessing import StandardScaler\n",
    "import lightgbm as lgb\n",
    "\n",
    "plt.rcParams['figure.figsize'] = (15.0, 10.0)"
   ]
  },
  {
   "cell_type": "code",
   "execution_count": 2,
   "metadata": {},
   "outputs": [],
   "source": [
    "data_chemicals = pd.read_csv(\"chemicals.csv\", encoding = \"utf-8\")\n",
    "data_drought = pd.read_csv(\"droughts.csv\", encoding = \"utf-8\")\n",
    "data_education = pd.read_csv(\"education_attainment.csv\", encoding = \"latin1\")"
   ]
  },
  {
   "cell_type": "markdown",
   "metadata": {},
   "source": [
    "## Pollution index by county"
   ]
  },
  {
   "cell_type": "code",
   "execution_count": 3,
   "metadata": {},
   "outputs": [],
   "source": [
    "data_chemicals = data_chemicals[data_chemicals['year']==2016]"
   ]
  },
  {
   "cell_type": "code",
   "execution_count": 4,
   "metadata": {},
   "outputs": [],
   "source": [
    "data_chemicals = data_chemicals.set_index(data_chemicals['fips'])"
   ]
  },
  {
   "cell_type": "code",
   "execution_count": 18,
   "metadata": {},
   "outputs": [],
   "source": [
    "data_chemicals['greater_than_MCL'] = (data_chemicals['contaminant_level'] == \"Greater than MCL\") * 1.\n",
    "groups = data_chemicals.groupby(\"cws_name\")[['greater_than_MCL', 'fips', \"pop_served\"]].mean()\n",
    "groups['index_with_weights'] = groups['greater_than_MCL']*groups['pop_served']\n",
    "groups['fips'] = groups['fips'].astype(int)\n",
    "chemicals_index = groups.groupby(\"fips\")['index_with_weights'].sum() / groups.groupby(\"fips\")['pop_served'].sum()"
   ]
  },
  {
   "cell_type": "markdown",
   "metadata": {},
   "source": [
    "## Drought index by county"
   ]
  },
  {
   "cell_type": "code",
   "execution_count": null,
   "metadata": {},
   "outputs": [],
   "source": [
    "data_drought['valid_start'] = pd.to_datetime(data_drought['valid_start'])\n",
    "data_drought['valid_end'] = pd.to_datetime(data_drought['valid_end'])"
   ]
  },
  {
   "cell_type": "code",
   "execution_count": null,
   "metadata": {},
   "outputs": [],
   "source": [
    "data_drought['event_duration_in_days'] = (data_drought['valid_end'] - data_drought['valid_start']).dt.days"
   ]
  },
  {
   "cell_type": "code",
   "execution_count": null,
   "metadata": {},
   "outputs": [],
   "source": [
    "data_drought['event_importance_with_weight'] = data_drought['event_duration_in_days'] * 0. + (data_drought['d0']*1. + data_drought['d1']*2. + data_drought['d2']*3. + data_drought['d3']*4. + data_drought['d4']*5.) / 100.\n",
    "groups = data_drought.groupby(\"fips\")\n",
    "drought_index = groups['event_importance_with_weight'].sum() / groups['event_duration_in_days'].sum()"
   ]
  },
  {
   "cell_type": "code",
   "execution_count": null,
   "metadata": {},
   "outputs": [],
   "source": [
    "data_drought"
   ]
  },
  {
   "cell_type": "code",
   "execution_count": null,
   "metadata": {},
   "outputs": [],
   "source": [
    "drought_index"
   ]
  },
  {
   "cell_type": "markdown",
   "metadata": {},
   "source": [
    "## Education index by county"
   ]
  },
  {
   "cell_type": "code",
   "execution_count": null,
   "metadata": {},
   "outputs": [],
   "source": [
    "data_education"
   ]
  },
  {
   "cell_type": "code",
   "execution_count": null,
   "metadata": {},
   "outputs": [],
   "source": [
    "data_education['avg_higher_education_years'] = (data_education['pct_less_than_hs'] * (-3) + data_education['pct_hs_diploma'] * 0. + data_education['pct_college_or_associates']*3. + data_education['pct_college_bachelors_or_higher']*4.)/100."
   ]
  },
  {
   "cell_type": "code",
   "execution_count": null,
   "metadata": {},
   "outputs": [],
   "source": [
    "education_index = data_education.groupby('fips')['avg_higher_education_years'].mean()"
   ]
  },
  {
   "cell_type": "code",
   "execution_count": null,
   "metadata": {},
   "outputs": [],
   "source": [
    "education_index"
   ]
  },
  {
   "cell_type": "code",
   "execution_count": null,
   "metadata": {},
   "outputs": [],
   "source": [
    "len(data_chemicals['fips'].unique())"
   ]
  },
  {
   "cell_type": "code",
   "execution_count": null,
   "metadata": {},
   "outputs": [],
   "source": [
    "chemicals_index"
   ]
  },
  {
   "cell_type": "markdown",
   "metadata": {},
   "source": [
    "## Analysis"
   ]
  },
  {
   "cell_type": "code",
   "execution_count": null,
   "metadata": {},
   "outputs": [],
   "source": [
    "data_with_indices = pd.DataFrame({'drought': drought_index, 'chemicals': chemicals_index, 'education': education_index})"
   ]
  },
  {
   "cell_type": "code",
   "execution_count": null,
   "metadata": {
    "scrolled": true
   },
   "outputs": [],
   "source": [
    "data_with_indices"
   ]
  },
  {
   "cell_type": "code",
   "execution_count": null,
   "metadata": {},
   "outputs": [],
   "source": [
    "data_with_indices = data_with_indices.dropna()"
   ]
  },
  {
   "cell_type": "code",
   "execution_count": null,
   "metadata": {},
   "outputs": [],
   "source": [
    "data_with_indices['drought_normalized'] = (data_with_indices['drought'] - data_with_indices['drought'].mean()) /data_with_indices['drought'].std()\n",
    "data_with_indices['chemicals_normalized'] = (data_with_indices['chemicals'] - data_with_indices['chemicals'].mean()) /data_with_indices['chemicals'].std()"
   ]
  },
  {
   "cell_type": "code",
   "execution_count": null,
   "metadata": {},
   "outputs": [],
   "source": [
    "sns.scatterplot(data_with_indices['drought_normalized'].values, data_with_indices['chemicals_normalized'].values)\n",
    "plt.grid()"
   ]
  },
  {
   "cell_type": "code",
   "execution_count": null,
   "metadata": {},
   "outputs": [],
   "source": [
    "kmeans = KMeans(n_clusters=3)\n",
    "kmeans.fit(data_with_indices[['drought_normalized', 'chemicals_normalized']].values)"
   ]
  },
  {
   "cell_type": "code",
   "execution_count": null,
   "metadata": {},
   "outputs": [],
   "source": [
    "kmeans.labels_"
   ]
  },
  {
   "cell_type": "code",
   "execution_count": null,
   "metadata": {
    "scrolled": true
   },
   "outputs": [],
   "source": [
    "sns.scatterplot(data_with_indices['drought_normalized'].values, data_with_indices['chemicals_normalized'].values, c=kmeans.labels_)\n",
    "plt.grid()"
   ]
  },
  {
   "cell_type": "code",
   "execution_count": null,
   "metadata": {},
   "outputs": [],
   "source": [
    "LABEL_COLOR_MAP = {0: 'r',\n",
    "                   1: 'g',\n",
    "                   2: 'b'}\n",
    "\n",
    "label_color = [LABEL_COLOR_MAP[l] for l in kmeans.labels_]\n",
    "plt.scatter(data_with_indices['drought_normalized'].values, data_with_indices['chemicals_normalized'].values, c=label_color)\n",
    "plt.grid()"
   ]
  },
  {
   "cell_type": "code",
   "execution_count": null,
   "metadata": {},
   "outputs": [],
   "source": [
    "data_with_indices[['chemicals', 'drought']].corr()"
   ]
  },
  {
   "cell_type": "code",
   "execution_count": null,
   "metadata": {},
   "outputs": [],
   "source": [
    "sns.scatterplot(data_with_indices['chemicals'].values, data_with_indices['drought'].values)\n",
    "plt.grid()"
   ]
  },
  {
   "cell_type": "markdown",
   "metadata": {},
   "source": [
    "## Regression chemicals vs. industry total revenue"
   ]
  },
  {
   "cell_type": "code",
   "execution_count": null,
   "metadata": {},
   "outputs": [],
   "source": [
    "data_industry_occupation = pd.read_csv(\"industry_occupation.csv\", encoding=\"latin1\")\n",
    "data_industry_earnings = pd.read_csv(\"earnings.csv\", encoding=\"latin1\")"
   ]
  },
  {
   "cell_type": "code",
   "execution_count": null,
   "metadata": {},
   "outputs": [],
   "source": [
    "data_industry_earnings = data_industry_earnings[data_industry_earnings['year'] == 2016]\n",
    "data_industry_occupation = data_industry_occupation[data_industry_occupation['year'] == 2016]"
   ]
  },
  {
   "cell_type": "code",
   "execution_count": null,
   "metadata": {},
   "outputs": [],
   "source": [
    "data_industry_occupation = data_industry_occupation.set_index(data_industry_occupation['fips'])\n",
    "data_industry_earnings = data_industry_earnings.set_index(data_industry_earnings['fips'])"
   ]
  },
  {
   "cell_type": "code",
   "execution_count": null,
   "metadata": {
    "scrolled": true
   },
   "outputs": [],
   "source": [
    "sector_corres = {'agri_fish_hunt': ['agriculture'],\n",
    "                #'mining_quarrying_oilgas_extract': ['mining'],\n",
    "                'construction': ['construction'],\n",
    "                'manufacturing': ['manufacturing'],\n",
    "                'wholesale_trade': ['wholesale_trade'],\n",
    "                'retail_trade': ['retail_trade'],\n",
    "                'transport_warehouse_utilities': ['transport_utilities'],\n",
    "                'information': ['information'],\n",
    "                'fin_ins_realest': ['finance_insurance_realestate'],\n",
    "                'total_prof_sci_mgmt_admin': ['prof_scientific_waste', 'public_admin'],\n",
    "                'total_edu_health_social': ['edu_health'],\n",
    "                'total_arts_ent_acc_food': ['arts_recreation'],\n",
    "                'other_ser': ['other']}"
   ]
  },
  {
   "cell_type": "code",
   "execution_count": null,
   "metadata": {},
   "outputs": [],
   "source": [
    "data_sectors = pd.DataFrame()\n",
    "for sector_earnings in sector_corres:\n",
    "        print(sector_earnings)\n",
    "        data_sectors[sector_earnings] = data_industry_earnings[sector_earnings] * data_industry_occupation[sector_corres[sector_earnings][0]]\n",
    "        for supp_sector in sector_corres[sector_earnings][1:]:\n",
    "            print('supp', supp_sector)\n",
    "            data_sectors[sector_earnings] = data_industry_earnings[sector_earnings] * data_industry_occupation[supp_sector]"
   ]
  },
  {
   "cell_type": "code",
   "execution_count": null,
   "metadata": {},
   "outputs": [],
   "source": [
    "sectors_occupation = ['agriculture', 'construction', 'manufacturing', 'wholesale_trade', 'retail_trade', 'transport_utilities', 'information', 'finance_insurance_realestate', 'prof_scientific_waste', 'edu_health', 'arts_recreation', 'other', 'public_admin']\n",
    "industry_occ_pop = data_industry_occupation[sectors_occupation]\n",
    "industry_occ_pop['chemicals'] = chemicals_index\n",
    "industry_occ_pop['total_employed'] = data_industry_occupation['total_employed']\n",
    "industry_occ_pop = industry_occ_pop.dropna()\n",
    "\n",
    "for col in sectors_occupation:\n",
    "    industry_occ_pop[col] = 100. * industry_occ_pop[col]/industry_occ_pop['total_employed']\n",
    "\n",
    "X = industry_occ_pop[sectors_occupation]\n",
    "Y = industry_occ_pop['chemicals']"
   ]
  },
  {
   "cell_type": "code",
   "execution_count": null,
   "metadata": {},
   "outputs": [],
   "source": [
    "H = lgb.LGBMRegressor()\n",
    "H.fit(X, Y)"
   ]
  },
  {
   "cell_type": "code",
   "execution_count": null,
   "metadata": {},
   "outputs": [],
   "source": [
    "lgb.plot_importance(H)"
   ]
  },
  {
   "cell_type": "code",
   "execution_count": null,
   "metadata": {},
   "outputs": [],
   "source": [
    "sectors_occupation"
   ]
  },
  {
   "cell_type": "code",
   "execution_count": null,
   "metadata": {},
   "outputs": [],
   "source": [
    "# S = StandardScaler()\n",
    "# X = S.fit_transform(X.values)"
   ]
  },
  {
   "cell_type": "code",
   "execution_count": null,
   "metadata": {},
   "outputs": [],
   "source": [
    "L = Ridge()\n",
    "L.fit(X, Y.values.reshape(-1,1))"
   ]
  },
  {
   "cell_type": "code",
   "execution_count": null,
   "metadata": {},
   "outputs": [],
   "source": [
    "ind = np.arange(len(L.coef_.flatten()))\n",
    "width = 0.35\n",
    "fig, ax = plt.subplots()\n",
    "ax.bar(ind+width, L.coef_.flatten())\n",
    "ax.set_xticks(ind+width/2.)\n",
    "ax.set_xticklabels(sectors_occupation)\n",
    "plt.xticks(rotation=45)\n",
    "plt.grid()\n",
    "plt.ylabel(\"Weight\")\n",
    "plt.show()"
   ]
  },
  {
   "cell_type": "markdown",
   "metadata": {},
   "source": [
    "## Regression sur les earnings"
   ]
  },
  {
   "cell_type": "code",
   "execution_count": null,
   "metadata": {},
   "outputs": [],
   "source": [
    "data_industry_earnings.columns"
   ]
  },
  {
   "cell_type": "code",
   "execution_count": null,
   "metadata": {},
   "outputs": [],
   "source": [
    "sectors_earnings = ['total_agri_fish_mine', 'construction', 'manufacturing', 'wholesale_trade', 'retail_trade', 'transport_warehouse_utilities', 'information', 'fin_ins_realest', 'total_prof_sci_mgmt_admin', 'total_edu_health_social', 'total_arts_ent_acc_food', 'other_ser', 'pub_admin']\n",
    "\n",
    "for sector in sectors_earnings:\n",
    "    if(data_industry_earnings[sector].dtype != float):\n",
    "        data_industry_earnings[sector] = data_industry_earnings[sector].str.replace(',','')\n",
    "        data_industry_earnings[sector] = data_industry_earnings[sector].astype(float)\n",
    "\n",
    "industry_earnings = data_industry_earnings[sectors_earnings]\n",
    "industry_earnings['chemicals'] = chemicals_index\n",
    "industry_earnings['total_med'] = data_industry_earnings['total_med']\n",
    "\n",
    "industry_earnings = industry_earnings.dropna()\n",
    "\n",
    "X = industry_earnings[sectors_earnings]\n",
    "Y = industry_earnings['chemicals']"
   ]
  },
  {
   "cell_type": "code",
   "execution_count": null,
   "metadata": {},
   "outputs": [],
   "source": [
    "H = lgb.LGBMRegressor()\n",
    "H.fit(X, Y)"
   ]
  },
  {
   "cell_type": "code",
   "execution_count": null,
   "metadata": {},
   "outputs": [],
   "source": [
    "lgb.plot_importance(H)"
   ]
  },
  {
   "cell_type": "code",
   "execution_count": null,
   "metadata": {},
   "outputs": [],
   "source": [
    "L = Ridge()\n",
    "L.fit(X.values, Y.values.reshape(-1,1))"
   ]
  },
  {
   "cell_type": "code",
   "execution_count": null,
   "metadata": {},
   "outputs": [],
   "source": [
    "ind = np.arange(len(L.coef_.flatten()))\n",
    "width = 0.35\n",
    "fig, ax = plt.subplots()\n",
    "ax.bar(ind+width, L.coef_.flatten())\n",
    "ax.set_xticks(ind+width/2.)\n",
    "ax.set_xticklabels(sectors_earnings)\n",
    "plt.xticks(rotation=45)\n",
    "plt.grid()\n",
    "plt.ylabel(\"Weight\")\n",
    "plt.show()"
   ]
  },
  {
   "cell_type": "markdown",
   "metadata": {},
   "source": [
    "## Which sectors are most correlated with water pollution?"
   ]
  },
  {
   "cell_type": "markdown",
   "metadata": {},
   "source": [
    "In this section, we provide insights on the link between the activity of various industry sectors and the level of water pollution in a large number of counties across the US."
   ]
  },
  {
   "cell_type": "markdown",
   "metadata": {},
   "source": [
    "### How can we measure water pollution?"
   ]
  },
  {
   "cell_type": "markdown",
   "metadata": {},
   "source": [
    "The U.S. CDC regularly measures the concentration of a number of chemicals in water systems across the US. Based on these measurements for the years 2000-2016, we build a water pollution index using the following method:\n",
    "\n",
    "For each chemical, we differentiate between two levels: $0$ if the current concentration of that chemical is below its median, and $1$ if it is above its median (that is to say if its current concentration is abnormally high). For a given water system, we then average these values across all chemicals, then compute an average across all the water systems in a given county, weighted by the population served by each water system.\n",
    "\n",
    "This allows us to build a water pollution index between $0$ and $1$ for each county."
   ]
  },
  {
   "cell_type": "code",
   "execution_count": null,
   "metadata": {},
   "outputs": [],
   "source": []
  }
 ],
 "metadata": {
  "kernelspec": {
   "display_name": "Python 3",
   "language": "python",
   "name": "python3"
  },
  "language_info": {
   "codemirror_mode": {
    "name": "ipython",
    "version": 3
   },
   "file_extension": ".py",
   "mimetype": "text/x-python",
   "name": "python",
   "nbconvert_exporter": "python",
   "pygments_lexer": "ipython3",
   "version": "3.6.5"
  }
 },
 "nbformat": 4,
 "nbformat_minor": 2
}
